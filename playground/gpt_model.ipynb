{
 "cells": [
  {
   "cell_type": "markdown",
   "id": "0aa3afc7",
   "metadata": {},
   "source": [
    "# GPT Model\n",
    "\n",
    "From the Andrej Karpathy [Let's build GPT](https://www.youtube.com/watch?v=kCc8FmEb1nY) video.\n",
    "\n",
    "Code for this lecture is mostly from https://github.com/karpathy/ng-video-lecture/tree/master.\n",
    "\n",
    "In here we explore ideas like self attention .. etc."
   ]
  },
  {
   "cell_type": "code",
   "execution_count": 10,
   "id": "7bf540e4",
   "metadata": {},
   "outputs": [
    {
     "name": "stdout",
     "output_type": "stream",
     "text": [
      "tensor([[1., 0., 0., 0., 0., 0., 0., 0.],\n",
      "        [1., 1., 0., 0., 0., 0., 0., 0.],\n",
      "        [1., 1., 1., 0., 0., 0., 0., 0.],\n",
      "        [1., 1., 1., 1., 0., 0., 0., 0.],\n",
      "        [1., 1., 1., 1., 1., 0., 0., 0.],\n",
      "        [1., 1., 1., 1., 1., 1., 0., 0.],\n",
      "        [1., 1., 1., 1., 1., 1., 1., 0.],\n",
      "        [1., 1., 1., 1., 1., 1., 1., 1.]])\n",
      "tensor([[1.0000, 0.0000, 0.0000, 0.0000, 0.0000, 0.0000, 0.0000, 0.0000],\n",
      "        [0.5000, 0.5000, 0.0000, 0.0000, 0.0000, 0.0000, 0.0000, 0.0000],\n",
      "        [0.3333, 0.3333, 0.3333, 0.0000, 0.0000, 0.0000, 0.0000, 0.0000],\n",
      "        [0.2500, 0.2500, 0.2500, 0.2500, 0.0000, 0.0000, 0.0000, 0.0000],\n",
      "        [0.2000, 0.2000, 0.2000, 0.2000, 0.2000, 0.0000, 0.0000, 0.0000],\n",
      "        [0.1667, 0.1667, 0.1667, 0.1667, 0.1667, 0.1667, 0.0000, 0.0000],\n",
      "        [0.1429, 0.1429, 0.1429, 0.1429, 0.1429, 0.1429, 0.1429, 0.0000],\n",
      "        [0.1250, 0.1250, 0.1250, 0.1250, 0.1250, 0.1250, 0.1250, 0.1250]])\n",
      "torch.Size([4, 8, 32])\n"
     ]
    }
   ],
   "source": [
    "# A small demonstration of letting previous tokens influence the current token\n",
    "import torch\n",
    "from torch.nn import functional as F\n",
    "\n",
    "torch.manual_seed(1337)\n",
    "\n",
    "B, T, C = 4, 8, 32  # batch size, sequence length (context), embedding dimension\n",
    "\n",
    "# random token embeddings for a batch\n",
    "x = torch.randn(B, T, C)\n",
    "\n",
    "# lower-triangular matrix of ones: tril[i,j] == 1 for j <= i\n",
    "tril = torch.tril(torch.ones(T, T))\n",
    "print(tril)\n",
    "\n",
    "# Build an attention-like weight matrix where earlier tokens each time step i can attend\n",
    "# only to positions 0..i (itself and earlier tokens).\n",
    "# We put -inf in disallowed positions so softmax will assign them zero probability.\n",
    "wei = torch.zeros((T, T))\n",
    "wei = wei.masked_fill(tril == 0, float('-inf'))\n",
    "# After softmax over the last dimension, each row i contains normalized weights\n",
    "# over positions 0..i (they sum to 1).\n",
    "wei = F.softmax(wei, dim=-1)\n",
    "print(wei)\n",
    "\n",
    "# Apply the weights to the token embeddings.\n",
    "# wei has shape (T, T) and x has shape (B, T, C).\n",
    "# Broadcasting makes wei behave like (B, T, T), so the result has shape (B, T, C).\n",
    "# out[b, i, :] is the weighted average of x[b, 0:i+1, :] using the weights in row i.\n",
    "out = wei @ x\n",
    "print(out.shape)\n",
    "\n",
    "# This is a simple, explicit way to let information from previous tokens\n",
    "# flow into the representation at each current time step (a toy causal attention)."
   ]
  }
 ],
 "metadata": {
  "kernelspec": {
   "display_name": "Python 3 (ipykernel)",
   "language": "python",
   "name": "python3"
  },
  "language_info": {
   "codemirror_mode": {
    "name": "ipython",
    "version": 3
   },
   "file_extension": ".py",
   "mimetype": "text/x-python",
   "name": "python",
   "nbconvert_exporter": "python",
   "pygments_lexer": "ipython3",
   "version": "3.11.13"
  }
 },
 "nbformat": 4,
 "nbformat_minor": 5
}
